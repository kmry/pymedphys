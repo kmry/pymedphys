{
 "cells": [
  {
   "cell_type": "code",
   "execution_count": null,
   "metadata": {},
   "outputs": [],
   "source": [
    "# Example modified from https://github.com/samuelpeet/flashgamma/blob/c00f388856cd3651b706a7b117ff90930aa5ee54/examples/eg3_gamma_surface.py\n",
    "# Source is licensed under the MIT license\n",
    "# Original author is Samuel Peet"
   ]
  },
  {
   "cell_type": "code",
   "execution_count": null,
   "metadata": {},
   "outputs": [],
   "source": [
    "import urllib.request\n",
    "\n",
    "import flashgamma"
   ]
  },
  {
   "cell_type": "code",
   "execution_count": null,
   "metadata": {},
   "outputs": [],
   "source": [
    "file_details = {\n",
    "    'snc': {\n",
    "        'url': 'https://raw.githubusercontent.com/samuelpeet/flashgamma/c00f388856cd3651b706a7b117ff90930aa5ee54/examples/sample_snc_extracted_data.snc',\n",
    "        'filetype': 'snc_extracted'\n",
    "    },\n",
    "    'arccheck': {\n",
    "        'url': 'https://raw.githubusercontent.com/samuelpeet/flashgamma/master/examples/sample_arccheck_measurement.txt',\n",
    "        'filetype': 'arccheck'\n",
    "    }\n",
    "}"
   ]
  },
  {
   "cell_type": "code",
   "execution_count": null,
   "metadata": {},
   "outputs": [],
   "source": [
    "for key, item in file_details.items():\n",
    "    url = item['url']\n",
    "    \n",
    "    filename = url.split('/')[-1]\n",
    "    item['filename'] = filename\n",
    "    \n",
    "    urllib.request.urlretrieve(url, filename)"
   ]
  },
  {
   "cell_type": "code",
   "execution_count": null,
   "metadata": {},
   "outputs": [],
   "source": [
    "file_details"
   ]
  },
  {
   "cell_type": "code",
   "execution_count": null,
   "metadata": {},
   "outputs": [],
   "source": [
    "distributions = {\n",
    "    key: flashgamma.load_file(item['filename'], item['filetype'])\n",
    "    for key, item in file_details.items()\n",
    "}"
   ]
  },
  {
   "cell_type": "code",
   "execution_count": null,
   "metadata": {},
   "outputs": [],
   "source": [
    "ref_dist = distributions['arccheck']\n",
    "eval_dist = distributions['snc']"
   ]
  },
  {
   "cell_type": "code",
   "execution_count": null,
   "metadata": {},
   "outputs": [],
   "source": [
    "eval_dist = eval_dist.scale_grid(\n",
    "    reference_distribution=ref_dist, new_resolution=3\n",
    ")"
   ]
  },
  {
   "cell_type": "code",
   "execution_count": null,
   "metadata": {},
   "outputs": [],
   "source": [
    "dose_criteria = np.linspace(1.0, 3.0, 21)  # %\n",
    "distance_criteria = np.linspace(1.0, 3.0, 21)  # mm"
   ]
  }
 ],
 "metadata": {
  "kernelspec": {
   "display_name": "pymedphys",
   "language": "python",
   "name": "pymedphys"
  },
  "language_info": {
   "codemirror_mode": {
    "name": "ipython",
    "version": 3
   },
   "file_extension": ".py",
   "mimetype": "text/x-python",
   "name": "python",
   "nbconvert_exporter": "python",
   "pygments_lexer": "ipython3",
   "version": "3.8.6"
  }
 },
 "nbformat": 4,
 "nbformat_minor": 4
}
