{
 "cells": [
  {
   "cell_type": "markdown",
   "metadata": {},
   "source": [
    "# Extracting the MLC positions from a Monaco tel.1 file\n",
    "\n",
    "## Download and import the required dependencies"
   ]
  },
  {
   "cell_type": "code",
   "execution_count": null,
   "metadata": {},
   "outputs": [],
   "source": [
    "!pip install pymedphys"
   ]
  },
  {
   "cell_type": "code",
   "execution_count": null,
   "metadata": {},
   "outputs": [],
   "source": [
    "import pandas as pd\n",
    "\n",
    "import pymedphys"
   ]
  },
  {
   "cell_type": "markdown",
   "metadata": {},
   "source": [
    "## Download demo files\n",
    "\n",
    "Download some demo data and get the filepaths for this data:"
   ]
  },
  {
   "cell_type": "code",
   "execution_count": null,
   "metadata": {},
   "outputs": [],
   "source": [
    "tel_and_dicom_paths = pymedphys.zip_data_paths(\"tel-dicom-pairs.zip\")\n",
    "tel_and_dicom_paths"
   ]
  },
  {
   "cell_type": "markdown",
   "metadata": {},
   "source": [
    "Get the VMAT tel file within the dataset"
   ]
  },
  {
   "cell_type": "code",
   "execution_count": null,
   "metadata": {},
   "outputs": [],
   "source": [
    "vmat_tel_file_path = [\n",
    "    item for item in tel_and_dicom_paths \n",
    "    if item.parts[-2].startswith('VMAT') and item.name == 'tel.1'\n",
    "][0]\n",
    "\n",
    "vmat_tel_file_path"
   ]
  },
  {
   "cell_type": "markdown",
   "metadata": {},
   "source": [
    "## Using your own `tel.1` file\n",
    "\n",
    "To use your own `tel.1` file you need to upload it to collaboratory. \n",
    "\n",
    "### Folder icon\n",
    "\n",
    "To do this, first click the folder icon within colab:\n",
    "\n",
    "![image.png](./images/monaco_mlc_to_csv/[0.1]-upload-tel-folder.png)\n",
    "\n",
    "### Drag and drop tel file\n",
    "\n",
    "Then drag and drop a `tel.1` into the file section\n",
    "\n",
    "![image.png](./images/monaco_mlc_to_csv/[0.2]-upload-tel-drag-and-drop.png)\n",
    "\n",
    "### Uncomment the following code\n",
    "\n",
    "Then, lastly, to tell the notebook to use your tel file instead of the demo tel file included remove the `# ` from the beginning of the following line. If your `tel.1` file is called something different, make sure to change the `'tel.1'` section appropriately."
   ]
  },
  {
   "cell_type": "code",
   "execution_count": null,
   "metadata": {},
   "outputs": [],
   "source": [
    "# vmat_tel_file_path = 'tel.1'"
   ]
  },
  {
   "cell_type": "markdown",
   "metadata": {},
   "source": [
    "## Convert the tel file to a Delivery object\n",
    "\n",
    "Here we are using the `pymedphys` library to read the `tel.1` file."
   ]
  },
  {
   "cell_type": "code",
   "execution_count": null,
   "metadata": {},
   "outputs": [],
   "source": [
    "delivery = pymedphys.Delivery.from_monaco(vmat_tel_file_path)"
   ]
  },
  {
   "cell_type": "markdown",
   "metadata": {},
   "source": [
    "## Save the MLC positions to a CSV file\n",
    "\n",
    "Load the MLC positions into a Pandas DataFrame"
   ]
  },
  {
   "cell_type": "code",
   "execution_count": null,
   "metadata": {},
   "outputs": [],
   "source": [
    "mlcs_as_table = pd.DataFrame(delivery.mlc)\n",
    "mlcs_as_table"
   ]
  },
  {
   "cell_type": "markdown",
   "metadata": {},
   "source": [
    "Convert the table to CSV"
   ]
  },
  {
   "cell_type": "code",
   "execution_count": null,
   "metadata": {},
   "outputs": [],
   "source": [
    "mlcs_as_table.to_csv('mlc.csv')"
   ]
  },
  {
   "cell_type": "markdown",
   "metadata": {},
   "source": [
    "And we're done, you should now be able to download the `mlc.csv` file and utilise it."
   ]
  },
  {
   "cell_type": "markdown",
   "metadata": {},
   "source": [
    "## Download the CSV created\n",
    "\n",
    "### Click folder\n",
    "\n",
    "Click the following folder icon within colaboratory:\n",
    "\n",
    "![image.png](./images/monaco_mlc_to_csv/[1.1]-download-csv-folder.png)\n",
    "\n",
    "### Three dots\n",
    "\n",
    "Then press the three dots next to `mlc.csv`:\n",
    "\n",
    "![image.png](./images/monaco_mlc_to_csv/[1.2]-download-csv-three-dots.png)\n",
    "\n",
    "### Download the file\n",
    "\n",
    "And lastly you can then download your file:\n",
    "\n",
    "![image.png](./images/monaco_mlc_to_csv/[1.3]-download-csv-download.png)"
   ]
  }
 ],
 "metadata": {
  "kernelspec": {
   "display_name": "Python 3",
   "language": "python",
   "name": "python3"
  },
  "language_info": {
   "codemirror_mode": {
    "name": "ipython",
    "version": 3
   },
   "file_extension": ".py",
   "mimetype": "text/x-python",
   "name": "python",
   "nbconvert_exporter": "python",
   "pygments_lexer": "ipython3",
   "version": "3.8.2"
  }
 },
 "nbformat": 4,
 "nbformat_minor": 4
}
